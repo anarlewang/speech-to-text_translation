{
  "nbformat": 4,
  "nbformat_minor": 0,
  "metadata": {
    "colab": {
      "name": "speech-to-text-model-training.ipynb",
      "provenance": [],
      "machine_shape": "hm"
    },
    "kernelspec": {
      "name": "python3",
      "display_name": "Python 3"
    },
    "language_info": {
      "name": "python"
    },
    "accelerator": "GPU",
    "gpuClass": "standard"
  },
  "cells": [
    {
      "cell_type": "code",
      "execution_count": null,
      "metadata": {
        "colab": {
          "base_uri": "https://localhost:8080/"
        },
        "id": "YGWjzCr1i5Ry",
        "outputId": "424fe7a6-d00b-4a3d-9e53-58236d61d1f9"
      },
      "outputs": [
        {
          "output_type": "stream",
          "name": "stdout",
          "text": [
            "mkdir: cannot create directory ‘data’: File exists\n",
            "Copying gs://audio-bucket20200620/bed.zip...\n",
            "Copying gs://audio-bucket20200620/bird.zip...\n",
            "Copying gs://audio-bucket20200620/cat.zip...\n",
            "Copying gs://audio-bucket20200620/dog.zip...\n",
            "\\ [4/4 files][149.1 MiB/149.1 MiB] 100% Done                                    \n",
            "Operation completed over 4 objects/149.1 MiB.                                    \n"
          ]
        }
      ],
      "source": [
        "!mkdir data\n",
        "from google.colab import auth\n",
        "auth.authenticate_user()\n",
        "!gsutil -m cp -r gs://audio-bucket20200620/ ./data"
      ]
    },
    {
      "cell_type": "code",
      "source": [
        "!mkdir uncompressed_data\n",
        "!unzip -q /content/data/audio-bucket20200620/bed.zip -d uncompressed_data\n",
        "!unzip -q /content/data/audio-bucket20200620/bird.zip -d uncompressed_data\n",
        "!unzip -q /content/data/audio-bucket20200620/cat.zip -d uncompressed_data\n",
        "!unzip -q /content/data/audio-bucket20200620/dog.zip -d uncompressed_data"
      ],
      "metadata": {
        "colab": {
          "base_uri": "https://localhost:8080/"
        },
        "id": "7QJ5QujMjBLB",
        "outputId": "7d17594d-61a8-4aeb-ec02-b0610c39ab44"
      },
      "execution_count": null,
      "outputs": [
        {
          "output_type": "stream",
          "name": "stdout",
          "text": [
            "mkdir: cannot create directory ‘uncompressed_data’: File exists\n"
          ]
        }
      ]
    },
    {
      "cell_type": "code",
      "source": [
        "import os\n",
        "import librosa\n",
        "import IPython.display as ipd\n",
        "import matplotlib.pyplot as plt\n",
        "import numpy as np\n",
        "from scipy.io import wavfile\n",
        "import warnings\n",
        "\n",
        "warnings.filterwarnings(\"ignore\")"
      ],
      "metadata": {
        "id": "SAaOhSuCkA-i"
      },
      "execution_count": null,
      "outputs": []
    },
    {
      "cell_type": "code",
      "source": [
        "train_audio_path = \"uncompressed_data/\""
      ],
      "metadata": {
        "id": "1m_OqmAVmUlV"
      },
      "execution_count": null,
      "outputs": []
    },
    {
      "cell_type": "code",
      "source": [
        "samples, sample_rate = librosa.load(train_audio_path+'bed/0a7c2a8d_nohash_0.wav', sr = 16000)\n",
        "fig = plt.figure(figsize=(14, 8))\n",
        "ax1 = fig.add_subplot(211)\n",
        "ax1.set_title('File: bed/0a7c2a8d_nohash_0.wav')\n",
        "ax1.set_xlabel('time')\n",
        "ax1.set_ylabel('Amplitude')\n",
        "ax1.plot(np.linspace(0, sample_rate/len(samples), sample_rate), samples)"
      ],
      "metadata": {
        "colab": {
          "base_uri": "https://localhost:8080/",
          "height": 293
        },
        "id": "MOt1JCe5kHgW",
        "outputId": "182f97e8-3126-4e6d-fe93-745e1d8a07e9"
      },
      "execution_count": null,
      "outputs": [
        {
          "output_type": "execute_result",
          "data": {
            "text/plain": [
              "[<matplotlib.lines.Line2D at 0x7f1bbde58510>]"
            ]
          },
          "metadata": {},
          "execution_count": 18
        },
        {
          "output_type": "display_data",
          "data": {
            "text/plain": [
              "<Figure size 1008x576 with 1 Axes>"
            ],
            "image/png": "[encoded data removed]"
          },
          "metadata": {
            "needs_background": "light"
          }
        }
      ]
    },
    {
      "cell_type": "code",
      "source": [
        "ipd.Audio(samples, rate=sample_rate)"
      ],
      "metadata": {
        "colab": {
          "base_uri": "https://localhost:8080/",
          "height": 75
        },
        "id": "uP2VXSIXlHKi",
        "outputId": "8c7d0adf-c8a1-4544-9bd5-2112beb67be6"
      },
      "execution_count": null,
      "outputs": [
        {
          "output_type": "execute_result",
          "data": {
            "text/plain": [
              "<IPython.lib.display.Audio object>"
            ],
            "text/html": [
              "\n",
              "                <audio controls=\"controls\" >\n",
              "                    <source src=\"data:audio/wav;base64,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\" type=\"audio/wav\" />\n",
              "                    Your browser does not support the audio element.\n",
              "                </audio>\n",
              "              "
            ]
          },
          "metadata": {},
          "execution_count": 19
        }
      ]
    },
    {
      "cell_type": "code",
      "source": [
        "samples = librosa.resample(samples, sample_rate, 8000)\n",
        "ipd.Audio(samples, rate=8000)"
      ],
      "metadata": {
        "colab": {
          "base_uri": "https://localhost:8080/",
          "height": 75
        },
        "id": "eH3C4VoIlJ5K",
        "outputId": "8d04c173-a685-4d4f-8995-9386952ef5f4"
      },
      "execution_count": null,
      "outputs": [
        {
          "output_type": "execute_result",
          "data": {
            "text/plain": [
              "<IPython.lib.display.Audio object>"
            ],
            "text/html": [
              "\n",
              "                <audio controls=\"controls\" >\n",
              "                    <source src=\"data:audio/wav;base64,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\" type=\"audio/wav\" />\n",
              "                    Your browser does not support the audio element.\n",
              "                </audio>\n",
              "              "
            ]
          },
          "metadata": {},
          "execution_count": 20
        }
      ]
    },
    {
      "cell_type": "code",
      "source": [
        "labels=os.listdir(train_audio_path)"
      ],
      "metadata": {
        "id": "0gExr_oflN25"
      },
      "execution_count": null,
      "outputs": []
    },
    {
      "cell_type": "code",
      "source": [
        "#find count of each label and plot bar graph\n",
        "no_of_recordings=[]\n",
        "for label in labels:\n",
        "    waves = [f for f in os.listdir(train_audio_path + '/'+ label) if f.endswith('.wav')]\n",
        "    no_of_recordings.append(len(waves))\n",
        "    \n",
        "#plot\n",
        "plt.figure(figsize=(30,5))\n",
        "index = np.arange(len(labels))\n",
        "plt.bar(index, no_of_recordings)\n",
        "plt.xlabel('Commands', fontsize=12)\n",
        "plt.ylabel('No of recordings', fontsize=12)\n",
        "plt.xticks(index, labels, fontsize=15, rotation=60)\n",
        "plt.title('No. of recordings for each command')\n",
        "plt.show()"
      ],
      "metadata": {
        "colab": {
          "base_uri": "https://localhost:8080/",
          "height": 216
        },
        "id": "gMCFmr5YmffH",
        "outputId": "356dc41b-da1a-4c31-d044-3c9bce7d72f4"
      },
      "execution_count": null,
      "outputs": [
        {
          "output_type": "display_data",
          "data": {
            "text/plain": [
              "<Figure size 2160x360 with 1 Axes>"
            ],
            "image/png": "[encoded data removed]"
          },
          "metadata": {
            "needs_background": "light"
          }
        }
      ]
    },
    {
      "cell_type": "code",
      "source": [
        "labels = [\"bed\", \"bird\", \"cat\", \"dog\"]"
      ],
      "metadata": {
        "id": "TomGcky0mjkL"
      },
      "execution_count": null,
      "outputs": []
    },
    {
      "cell_type": "code",
      "source": [
        "duration_of_recordings=[]\n",
        "for label in labels:\n",
        "    waves = [f for f in os.listdir(train_audio_path + '/'+ label) if f.endswith('.wav')]\n",
        "    for wav in waves:\n",
        "        sample_rate, samples = wavfile.read(train_audio_path + '/' + label + '/' + wav)\n",
        "        duration_of_recordings.append(float(len(samples)/sample_rate))\n",
        "    \n",
        "plt.hist(np.array(duration_of_recordings))"
      ],
      "metadata": {
        "colab": {
          "base_uri": "https://localhost:8080/",
          "height": 369
        },
        "id": "EORaTSAXmrWH",
        "outputId": "82355460-1b5d-42f0-906e-4b66342d1fec"
      },
      "execution_count": null,
      "outputs": [
        {
          "output_type": "execute_result",
          "data": {
            "text/plain": [
              "(array([  14.,   10.,   13.,   20.,   84.,   64.,  152.,  119.,  219.,\n",
              "        6228.]),\n",
              " array([0.4644375 , 0.51799375, 0.57155   , 0.62510625, 0.6786625 ,\n",
              "        0.73221875, 0.785775  , 0.83933125, 0.8928875 , 0.94644375,\n",
              "        1.        ]),\n",
              " <a list of 10 Patch objects>)"
            ]
          },
          "metadata": {},
          "execution_count": 26
        },
        {
          "output_type": "display_data",
          "data": {
            "text/plain": [
              "<Figure size 432x288 with 1 Axes>"
            ],
            "image/png": "[encoded data removed]"
          },
          "metadata": {
            "needs_background": "light"
          }
        }
      ]
    },
    {
      "cell_type": "code",
      "source": [
        "all_wave = []\n",
        "all_label = []\n",
        "for label in labels:\n",
        "    print(label)\n",
        "    waves = [f for f in os.listdir(train_audio_path + '/'+ label) if f.endswith('.wav')]\n",
        "    for wav in waves:\n",
        "        samples, sample_rate = librosa.load(train_audio_path + '/' + label + '/' + wav, sr = 16000)\n",
        "        samples = librosa.resample(samples, sample_rate, 8000)\n",
        "        if(len(samples)== 8000) : \n",
        "            all_wave.append(samples)\n",
        "            all_label.append(label)"
      ],
      "metadata": {
        "colab": {
          "base_uri": "https://localhost:8080/"
        },
        "id": "BDjFLhZ_mtoX",
        "outputId": "b5a81c64-0107-4dfa-8085-fd57dcff0d36"
      },
      "execution_count": null,
      "outputs": [
        {
          "output_type": "stream",
          "name": "stdout",
          "text": [
            "bed\n",
            "bird\n",
            "cat\n",
            "dog\n"
          ]
        }
      ]
    },
    {
      "cell_type": "code",
      "source": [
        "all_wave = np.array(all_wave).reshape(-1,8000,1)"
      ],
      "metadata": {
        "id": "8indzJ23nlXu"
      },
      "execution_count": null,
      "outputs": []
    },
    {
      "cell_type": "code",
      "source": [
        "from sklearn.preprocessing import LabelEncoder\n",
        "le = LabelEncoder()\n",
        "y=le.fit_transform(all_label)\n",
        "classes= list(le.classes_)"
      ],
      "metadata": {
        "id": "t6fAQzgRo5Lh"
      },
      "execution_count": null,
      "outputs": []
    },
    {
      "cell_type": "code",
      "source": [
        "import pickle\n",
        "output = open('encoder.pkl', 'wb')\n",
        "pickle.dump(le, output)\n",
        "output.close()\n",
        "\n"
      ],
      "metadata": {
        "id": "q96wtWRJsK6v"
      },
      "execution_count": null,
      "outputs": []
    },
    {
      "cell_type": "code",
      "source": [
        "!gsutil cp encoder.pkl gs://audio-bucket20200620/"
      ],
      "metadata": {
        "colab": {
          "base_uri": "https://localhost:8080/"
        },
        "id": "T6bTii5xstnT",
        "outputId": "7aa59c76-55ae-4ccf-c379-4b55534a175e"
      },
      "execution_count": null,
      "outputs": [
        {
          "output_type": "stream",
          "name": "stdout",
          "text": [
            "Copying file://encoder.pkl [Content-Type=application/octet-stream]...\n",
            "-\n",
            "Operation completed over 1 objects/316.0 B.                                      \n"
          ]
        }
      ]
    },
    {
      "cell_type": "code",
      "source": [
        "\n",
        "\n",
        "from sklearn.model_selection import train_test_split\n",
        "x_tr, x_val, y_tr, y_val = train_test_split(np.array(all_wave), np.array(y), stratify=y, test_size = 0.2, random_state=777, shuffle=True)\n",
        "x_val, x_test, y_val, y_test = train_test_split(np.array(all_wave), np.array(y), stratify=y, test_size = 0.5, random_state=777, shuffle=True)"
      ],
      "metadata": {
        "id": "XVf0ZmTTnluv"
      },
      "execution_count": null,
      "outputs": []
    },
    {
      "cell_type": "code",
      "source": [
        "from keras.layers import Dense, Dropout, Flatten, Conv1D, Input, MaxPooling1D\n",
        "from keras.models import Model\n",
        "from keras.callbacks import EarlyStopping, ModelCheckpoint\n",
        "from keras import backend as K\n",
        "K.clear_session()\n",
        "\n",
        "inputs = Input(shape=(8000,1))\n",
        "\n",
        "#First Conv1D layer\n",
        "conv = Conv1D(8,13, padding='valid', activation='relu', strides=1)(inputs)\n",
        "conv = MaxPooling1D(3)(conv)\n",
        "conv = Dropout(0.3)(conv)\n",
        "\n",
        "#Second Conv1D layer\n",
        "conv = Conv1D(16, 11, padding='valid', activation='relu', strides=1)(conv)\n",
        "conv = MaxPooling1D(3)(conv)\n",
        "conv = Dropout(0.3)(conv)\n",
        "\n",
        "#Third Conv1D layer\n",
        "conv = Conv1D(32, 9, padding='valid', activation='relu', strides=1)(conv)\n",
        "conv = MaxPooling1D(3)(conv)\n",
        "conv = Dropout(0.3)(conv)\n",
        "\n",
        "#Fourth Conv1D layer\n",
        "conv = Conv1D(64, 7, padding='valid', activation='relu', strides=1)(conv)\n",
        "conv = MaxPooling1D(3)(conv)\n",
        "conv = Dropout(0.3)(conv)\n",
        "\n",
        "#Flatten layer\n",
        "conv = Flatten()(conv)\n",
        "\n",
        "#Dense Layer 1\n",
        "conv = Dense(256, activation='relu')(conv)\n",
        "conv = Dropout(0.3)(conv)\n",
        "\n",
        "#Dense Layer 2\n",
        "conv = Dense(128, activation='relu')(conv)\n",
        "conv = Dropout(0.3)(conv)\n",
        "\n",
        "outputs = Dense(len(labels), activation='softmax')(conv)\n",
        "\n",
        "model = Model(inputs, outputs)\n",
        "model.summary()"
      ],
      "metadata": {
        "colab": {
          "base_uri": "https://localhost:8080/"
        },
        "id": "gkeChBiZnurm",
        "outputId": "a2f2ddb4-30fc-4397-ac3e-03713a5cafbb"
      },
      "execution_count": null,
      "outputs": [
        {
          "output_type": "stream",
          "name": "stdout",
          "text": [
            "Model: \"model\"\n",
            "_________________________________________________________________\n",
            " Layer (type)                Output Shape              Param #   \n",
            "=================================================================\n",
            " input_1 (InputLayer)        [(None, 8000, 1)]         0         \n",
            "                                                                 \n",
            " conv1d (Conv1D)             (None, 7988, 8)           112       \n",
            "                                                                 \n",
            " max_pooling1d (MaxPooling1D  (None, 2662, 8)          0         \n",
            " )                                                               \n",
            "                                                                 \n",
            " dropout (Dropout)           (None, 2662, 8)           0         \n",
            "                                                                 \n",
            " conv1d_1 (Conv1D)           (None, 2652, 16)          1424      \n",
            "                                                                 \n",
            " max_pooling1d_1 (MaxPooling  (None, 884, 16)          0         \n",
            " 1D)                                                             \n",
            "                                                                 \n",
            " dropout_1 (Dropout)         (None, 884, 16)           0         \n",
            "                                                                 \n",
            " conv1d_2 (Conv1D)           (None, 876, 32)           4640      \n",
            "                                                                 \n",
            " max_pooling1d_2 (MaxPooling  (None, 292, 32)          0         \n",
            " 1D)                                                             \n",
            "                                                                 \n",
            " dropout_2 (Dropout)         (None, 292, 32)           0         \n",
            "                                                                 \n",
            " conv1d_3 (Conv1D)           (None, 286, 64)           14400     \n",
            "                                                                 \n",
            " max_pooling1d_3 (MaxPooling  (None, 95, 64)           0         \n",
            " 1D)                                                             \n",
            "                                                                 \n",
            " dropout_3 (Dropout)         (None, 95, 64)            0         \n",
            "                                                                 \n",
            " flatten (Flatten)           (None, 6080)              0         \n",
            "                                                                 \n",
            " dense (Dense)               (None, 256)               1556736   \n",
            "                                                                 \n",
            " dropout_4 (Dropout)         (None, 256)               0         \n",
            "                                                                 \n",
            " dense_1 (Dense)             (None, 128)               32896     \n",
            "                                                                 \n",
            " dropout_5 (Dropout)         (None, 128)               0         \n",
            "                                                                 \n",
            " dense_2 (Dense)             (None, 4)                 516       \n",
            "                                                                 \n",
            "=================================================================\n",
            "Total params: 1,610,724\n",
            "Trainable params: 1,610,724\n",
            "Non-trainable params: 0\n",
            "_________________________________________________________________\n"
          ]
        }
      ]
    },
    {
      "cell_type": "code",
      "source": [
        "model.compile(loss='sparse_categorical_crossentropy',optimizer='adam',metrics=['accuracy'])"
      ],
      "metadata": {
        "id": "5ZpCCFACn__6"
      },
      "execution_count": null,
      "outputs": []
    },
    {
      "cell_type": "code",
      "source": [
        "es = EarlyStopping(monitor='val_loss', mode='min', verbose=1, patience=10, min_delta=0.0001) \n",
        "mc = ModelCheckpoint('best_model.hdf5', monitor='val_acc', verbose=1, save_best_only=True, mode='max')"
      ],
      "metadata": {
        "id": "3R_2tZU9oVeZ"
      },
      "execution_count": null,
      "outputs": []
    },
    {
      "cell_type": "code",
      "source": [
        "history = model.fit(x_tr, y_tr ,epochs=30, callbacks=[es,mc], batch_size=32, validation_data=(x_val,y_val))"
      ],
      "metadata": {
        "colab": {
          "base_uri": "https://localhost:8080/"
        },
        "id": "ell6OV72obQJ",
        "outputId": "f13b15ee-f8ee-4afd-8262-c6798adab469"
      },
      "execution_count": null,
      "outputs": [
        {
          "output_type": "stream",
          "name": "stdout",
          "text": [
            "Epoch 1/30\n",
            "145/152 [===========================>..] - ETA: 0s - loss: 1.3653 - accuracy: 0.2957WARNING:tensorflow:Can save best model only with val_acc available, skipping.\n",
            "152/152 [==============================] - 2s 10ms/step - loss: 1.3597 - accuracy: 0.3029 - val_loss: 1.1883 - val_accuracy: 0.4550\n",
            "Epoch 2/30\n",
            "151/152 [============================>.] - ETA: 0s - loss: 1.0756 - accuracy: 0.5151WARNING:tensorflow:Can save best model only with val_acc available, skipping.\n",
            "152/152 [==============================] - 1s 8ms/step - loss: 1.0748 - accuracy: 0.5160 - val_loss: 0.9086 - val_accuracy: 0.6334\n",
            "Epoch 3/30\n",
            "145/152 [===========================>..] - ETA: 0s - loss: 0.8597 - accuracy: 0.6450WARNING:tensorflow:Can save best model only with val_acc available, skipping.\n",
            "152/152 [==============================] - 1s 8ms/step - loss: 0.8547 - accuracy: 0.6485 - val_loss: 0.7222 - val_accuracy: 0.7221\n",
            "Epoch 4/30\n",
            "150/152 [============================>.] - ETA: 0s - loss: 0.7074 - accuracy: 0.7125WARNING:tensorflow:Can save best model only with val_acc available, skipping.\n",
            "152/152 [==============================] - 1s 8ms/step - loss: 0.7063 - accuracy: 0.7130 - val_loss: 0.7267 - val_accuracy: 0.7036\n",
            "Epoch 5/30\n",
            "144/152 [===========================>..] - ETA: 0s - loss: 0.6388 - accuracy: 0.7489WARNING:tensorflow:Can save best model only with val_acc available, skipping.\n",
            "152/152 [==============================] - 1s 8ms/step - loss: 0.6392 - accuracy: 0.7474 - val_loss: 0.7200 - val_accuracy: 0.7313\n",
            "Epoch 6/30\n",
            "150/152 [============================>.] - ETA: 0s - loss: 0.5803 - accuracy: 0.7798WARNING:tensorflow:Can save best model only with val_acc available, skipping.\n",
            "152/152 [==============================] - 1s 8ms/step - loss: 0.5796 - accuracy: 0.7799 - val_loss: 0.5185 - val_accuracy: 0.8131\n",
            "Epoch 7/30\n",
            "147/152 [============================>.] - ETA: 0s - loss: 0.4966 - accuracy: 0.8095WARNING:tensorflow:Can save best model only with val_acc available, skipping.\n",
            "152/152 [==============================] - 1s 8ms/step - loss: 0.4933 - accuracy: 0.8115 - val_loss: 0.5014 - val_accuracy: 0.8266\n",
            "Epoch 8/30\n",
            "147/152 [============================>.] - ETA: 0s - loss: 0.4513 - accuracy: 0.8348WARNING:tensorflow:Can save best model only with val_acc available, skipping.\n",
            "152/152 [==============================] - 1s 9ms/step - loss: 0.4549 - accuracy: 0.8341 - val_loss: 0.6653 - val_accuracy: 0.7679\n",
            "Epoch 9/30\n",
            "147/152 [============================>.] - ETA: 0s - loss: 0.4115 - accuracy: 0.8493WARNING:tensorflow:Can save best model only with val_acc available, skipping.\n",
            "152/152 [==============================] - 1s 8ms/step - loss: 0.4132 - accuracy: 0.8485 - val_loss: 0.4680 - val_accuracy: 0.8427\n",
            "Epoch 10/30\n",
            "146/152 [===========================>..] - ETA: 0s - loss: 0.3955 - accuracy: 0.8530WARNING:tensorflow:Can save best model only with val_acc available, skipping.\n",
            "152/152 [==============================] - 1s 8ms/step - loss: 0.3972 - accuracy: 0.8537 - val_loss: 0.4018 - val_accuracy: 0.8579\n",
            "Epoch 11/30\n",
            "151/152 [============================>.] - ETA: 0s - loss: 0.3554 - accuracy: 0.8721WARNING:tensorflow:Can save best model only with val_acc available, skipping.\n",
            "152/152 [==============================] - 1s 8ms/step - loss: 0.3543 - accuracy: 0.8727 - val_loss: 0.3567 - val_accuracy: 0.8767\n",
            "Epoch 12/30\n",
            "146/152 [===========================>..] - ETA: 0s - loss: 0.3117 - accuracy: 0.8851WARNING:tensorflow:Can save best model only with val_acc available, skipping.\n",
            "152/152 [==============================] - 1s 8ms/step - loss: 0.3167 - accuracy: 0.8832 - val_loss: 0.2876 - val_accuracy: 0.9080\n",
            "Epoch 13/30\n",
            "149/152 [============================>.] - ETA: 0s - loss: 0.3022 - accuracy: 0.8914WARNING:tensorflow:Can save best model only with val_acc available, skipping.\n",
            "152/152 [==============================] - 1s 9ms/step - loss: 0.3045 - accuracy: 0.8908 - val_loss: 0.3265 - val_accuracy: 0.8866\n",
            "Epoch 14/30\n",
            "151/152 [============================>.] - ETA: 0s - loss: 0.2884 - accuracy: 0.8974WARNING:tensorflow:Can save best model only with val_acc available, skipping.\n",
            "152/152 [==============================] - 1s 9ms/step - loss: 0.2903 - accuracy: 0.8972 - val_loss: 0.2553 - val_accuracy: 0.9130\n",
            "Epoch 15/30\n",
            "150/152 [============================>.] - ETA: 0s - loss: 0.2415 - accuracy: 0.9115WARNING:tensorflow:Can save best model only with val_acc available, skipping.\n",
            "152/152 [==============================] - 1s 9ms/step - loss: 0.2411 - accuracy: 0.9110 - val_loss: 0.2567 - val_accuracy: 0.9054\n",
            "Epoch 16/30\n",
            "148/152 [============================>.] - ETA: 0s - loss: 0.2504 - accuracy: 0.9126WARNING:tensorflow:Can save best model only with val_acc available, skipping.\n",
            "152/152 [==============================] - 2s 11ms/step - loss: 0.2495 - accuracy: 0.9128 - val_loss: 0.2080 - val_accuracy: 0.9245\n",
            "Epoch 17/30\n",
            "149/152 [============================>.] - ETA: 0s - loss: 0.2110 - accuracy: 0.9241WARNING:tensorflow:Can save best model only with val_acc available, skipping.\n",
            "152/152 [==============================] - 1s 9ms/step - loss: 0.2133 - accuracy: 0.9238 - val_loss: 0.1724 - val_accuracy: 0.9410\n",
            "Epoch 18/30\n",
            "149/152 [============================>.] - ETA: 0s - loss: 0.2073 - accuracy: 0.9226WARNING:tensorflow:Can save best model only with val_acc available, skipping.\n",
            "152/152 [==============================] - 1s 9ms/step - loss: 0.2087 - accuracy: 0.9223 - val_loss: 0.2900 - val_accuracy: 0.8952\n",
            "Epoch 19/30\n",
            "145/152 [===========================>..] - ETA: 0s - loss: 0.1831 - accuracy: 0.9341WARNING:tensorflow:Can save best model only with val_acc available, skipping.\n",
            "152/152 [==============================] - 1s 8ms/step - loss: 0.1813 - accuracy: 0.9351 - val_loss: 0.2633 - val_accuracy: 0.9014\n",
            "Epoch 20/30\n",
            "149/152 [============================>.] - ETA: 0s - loss: 0.1801 - accuracy: 0.9352WARNING:tensorflow:Can save best model only with val_acc available, skipping.\n",
            "152/152 [==============================] - 1s 8ms/step - loss: 0.1796 - accuracy: 0.9351 - val_loss: 0.1620 - val_accuracy: 0.9403\n",
            "Epoch 21/30\n",
            "146/152 [===========================>..] - ETA: 0s - loss: 0.1731 - accuracy: 0.9356WARNING:tensorflow:Can save best model only with val_acc available, skipping.\n",
            "152/152 [==============================] - 1s 8ms/step - loss: 0.1736 - accuracy: 0.9359 - val_loss: 0.1470 - val_accuracy: 0.9492\n",
            "Epoch 22/30\n",
            "151/152 [============================>.] - ETA: 0s - loss: 0.1617 - accuracy: 0.9412WARNING:tensorflow:Can save best model only with val_acc available, skipping.\n",
            "152/152 [==============================] - 1s 8ms/step - loss: 0.1611 - accuracy: 0.9415 - val_loss: 0.1489 - val_accuracy: 0.9472\n",
            "Epoch 23/30\n",
            "151/152 [============================>.] - ETA: 0s - loss: 0.1542 - accuracy: 0.9418WARNING:tensorflow:Can save best model only with val_acc available, skipping.\n",
            "152/152 [==============================] - 1s 8ms/step - loss: 0.1538 - accuracy: 0.9421 - val_loss: 0.1871 - val_accuracy: 0.9446\n",
            "Epoch 24/30\n",
            "149/152 [============================>.] - ETA: 0s - loss: 0.1502 - accuracy: 0.9469WARNING:tensorflow:Can save best model only with val_acc available, skipping.\n",
            "152/152 [==============================] - 1s 8ms/step - loss: 0.1494 - accuracy: 0.9472 - val_loss: 0.1725 - val_accuracy: 0.9416\n",
            "Epoch 25/30\n",
            "145/152 [===========================>..] - ETA: 0s - loss: 0.1278 - accuracy: 0.9511WARNING:tensorflow:Can save best model only with val_acc available, skipping.\n",
            "152/152 [==============================] - 1s 8ms/step - loss: 0.1268 - accuracy: 0.9514 - val_loss: 0.0872 - val_accuracy: 0.9720\n",
            "Epoch 26/30\n",
            "149/152 [============================>.] - ETA: 0s - loss: 0.1301 - accuracy: 0.9507WARNING:tensorflow:Can save best model only with val_acc available, skipping.\n",
            "152/152 [==============================] - 1s 8ms/step - loss: 0.1282 - accuracy: 0.9516 - val_loss: 0.1131 - val_accuracy: 0.9598\n",
            "Epoch 27/30\n",
            "149/152 [============================>.] - ETA: 0s - loss: 0.1209 - accuracy: 0.9536WARNING:tensorflow:Can save best model only with val_acc available, skipping.\n",
            "152/152 [==============================] - 1s 8ms/step - loss: 0.1205 - accuracy: 0.9534 - val_loss: 0.1559 - val_accuracy: 0.9410\n",
            "Epoch 28/30\n",
            "148/152 [============================>.] - ETA: 0s - loss: 0.1207 - accuracy: 0.9561WARNING:tensorflow:Can save best model only with val_acc available, skipping.\n",
            "152/152 [==============================] - 1s 8ms/step - loss: 0.1225 - accuracy: 0.9555 - val_loss: 0.1728 - val_accuracy: 0.9492\n",
            "Epoch 29/30\n",
            "145/152 [===========================>..] - ETA: 0s - loss: 0.1445 - accuracy: 0.9506WARNING:tensorflow:Can save best model only with val_acc available, skipping.\n",
            "152/152 [==============================] - 1s 8ms/step - loss: 0.1439 - accuracy: 0.9503 - val_loss: 0.0979 - val_accuracy: 0.9687\n",
            "Epoch 30/30\n",
            "145/152 [===========================>..] - ETA: 0s - loss: 0.1067 - accuracy: 0.9599WARNING:tensorflow:Can save best model only with val_acc available, skipping.\n",
            "152/152 [==============================] - 1s 8ms/step - loss: 0.1069 - accuracy: 0.9600 - val_loss: 0.0639 - val_accuracy: 0.9809\n"
          ]
        }
      ]
    },
    {
      "cell_type": "code",
      "source": [
        "loss, acc = model.evaluate(x_test, y_test, verbose=2)\n",
        "print(\"Restored model, accuracy: {:5.2f}%\".format(100 * acc))"
      ],
      "metadata": {
        "colab": {
          "base_uri": "https://localhost:8080/"
        },
        "id": "9jAE8VmEoeVy",
        "outputId": "0efeaffa-87b1-4d89-e937-c38f814f7879"
      },
      "execution_count": null,
      "outputs": [
        {
          "output_type": "stream",
          "name": "stdout",
          "text": [
            "95/95 - 0s - loss: 0.1580 - accuracy: 0.9535 - 367ms/epoch - 4ms/step\n",
            "Restored model, accuracy: 95.35%\n"
          ]
        }
      ]
    },
    {
      "cell_type": "code",
      "source": [
        "model.save('gs://audio-bucket20200620/model_folder')"
      ],
      "metadata": {
        "colab": {
          "base_uri": "https://localhost:8080/"
        },
        "id": "XqzwCnhJqsnG",
        "outputId": "1fe68701-2df0-4ce6-acc7-260b797b75d5"
      },
      "execution_count": null,
      "outputs": [
        {
          "output_type": "stream",
          "name": "stdout",
          "text": [
            "INFO:tensorflow:Assets written to: gs://audio-bucket20200620/model_folder/assets\n"
          ]
        }
      ]
    },
    {
      "cell_type": "code",
      "source": [
        "import tensorflow as tf\n",
        "model_load = tf.keras.models.load_model('gs://audio-bucket20200620/model_folder')"
      ],
      "metadata": {
        "id": "YJHIBggbrMkN"
      },
      "execution_count": null,
      "outputs": []
    },
    {
      "cell_type": "code",
      "source": [
        "\n"
      ],
      "metadata": {
        "id": "B3jEQRGhrfZr"
      },
      "execution_count": null,
      "outputs": []
    }
  ]
}